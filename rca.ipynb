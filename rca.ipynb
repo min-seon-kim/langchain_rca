{
 "cells": [
  {
   "cell_type": "code",
   "execution_count": 22,
   "id": "c2cedbd7",
   "metadata": {},
   "outputs": [
    {
     "name": "stderr",
     "output_type": "stream",
     "text": [
      "Fetching 4 files: 100%|██████████| 4/4 [02:12<00:00, 33.15s/it] \n",
      "Sliding Window Attention is enabled but not implemented for `sdpa`; unexpected results may be encountered.\n",
      "Loading checkpoint shards: 100%|██████████| 4/4 [00:01<00:00,  2.76it/s]\n",
      "Device set to use cuda:0\n"
     ]
    }
   ],
   "source": [
    "import pandas as pd\n",
    "import sqlite3\n",
    "from langchain.prompts import ChatPromptTemplate\n",
    "from langchain.llms import HuggingFacePipeline\n",
    "from transformers import pipeline, AutoTokenizer, AutoModelForCausalLM\n",
    "\n",
    "# 📌 1. LLM 설정 (오픈소스 모델, HuggingFace 기준)\n",
    "# model_id = \"tiiuae/falcon-7b-instruct\"\n",
    "model_id = \"Qwen/Qwen2.5-7B\"\n",
    "# model_id = \"deepseek-ai/deepseek-llm-7b-instruct\"\n",
    "\n",
    "tokenizer = AutoTokenizer.from_pretrained(model_id)\n",
    "model = AutoModelForCausalLM.from_pretrained(model_id, device_map=\"auto\")\n",
    "text_gen = pipeline(\"text-generation\", \n",
    "                    model=model, \n",
    "                    tokenizer=tokenizer, \n",
    "                    max_new_tokens=512,\n",
    "                    return_full_text=False\n",
    "                    )\n",
    "llm = HuggingFacePipeline(pipeline=text_gen)"
   ]
  },
  {
   "cell_type": "code",
   "execution_count": 21,
   "id": "fb6177e3",
   "metadata": {},
   "outputs": [
    {
     "name": "stderr",
     "output_type": "stream",
     "text": [
      "Setting `pad_token_id` to `eos_token_id`:11 for open-end generation.\n"
     ]
    },
    {
     "name": "stdout",
     "output_type": "stream",
     "text": [
      "\n",
      "--- Root Cause Analysis for time 1533 ---\n",
      "\n",
      "- The most likely root cause of the anomaly at time 1533 is a PLC compromise.\n",
      "- The anomaly could be caused by a malicious actor attempting to gain unauthorized access to the plant's control system.\n",
      "- The anomaly could be due to a software bug that allowed an attacker to manipulate sensor values.\n",
      "- The anomaly could be caused by a hardware failure, such as a faulty sensor or valve, leading to incorrect sensor values.\n",
      "- The anomaly could be due to a communication issue between the control system and the SCADA HMI, causing the system to misbehave.\n",
      "- The anomaly could be caused by a power failure, leading to the control system losing power and the sensors failing.\n",
      "\n"
     ]
    }
   ],
   "source": [
    "# 📌 2. GNN 결과 로드\n",
    "df = pd.read_csv(\"/home/mskim2/GDN/csv/swat/test_result.csv\")\n",
    "\n",
    "# 📌 3. true positive 시점 필터링\n",
    "tp_df = df[(df[\"ground truth label\"] == 1.0) & (df[\"model prediction\"] == 1.0)]\n",
    "\n",
    "# 📌 4-1. DB 연결 (SQLite / CSV 예시)\n",
    "conn = sqlite3.connect(\"sensor_data.db\")\n",
    "def get_raw_sensor_data(sensor: str, time_idx: int, window: int = 10) -> str:\n",
    "    query = f\"\"\"\n",
    "        SELECT timestamp, value\n",
    "        FROM raw_data\n",
    "        WHERE sensor_id = '{sensor}'\n",
    "        AND time_index BETWEEN {time_idx - window} AND {time_idx + window}\n",
    "        ORDER BY time_index\n",
    "    \"\"\"\n",
    "    result = pd.read_sql(query, conn)\n",
    "    return result.to_string(index=False)\n",
    "\n",
    "def get_sensor_data_block(sensor: list, time_idx: int, window: int = 10) -> str:\n",
    "    raw_df = pd.read_csv(\"/home/mskim2/GDN/data/swat/test.csv\")\n",
    "    start = max(0, time_idx - window)\n",
    "    end = min(len(raw_df), time_idx + window + 1)\n",
    "    block = raw_df.loc[start:end, sensor]\n",
    "    return block.to_string(index=False)\n",
    "\n",
    "# 📌 5. 도메인 매뉴얼 불러오기\n",
    "with open(\"./manual.txt\", \"r\") as f:\n",
    "    manual_text = f.read()\n",
    "\n",
    "# 📌 6. 루트 원인 분석 루프\n",
    "slide_win = 5\n",
    "for _, row in tp_df.iterrows():\n",
    "    time_idx = int(row[\"timestamp\"]+slide_win)\n",
    "    sensors_scores = [s.strip() for s in row[[\"1\", \"2\", \"3\"]].tolist()]\n",
    "    sensors = [s.split(\":\")[0] for s in sensors_scores]\n",
    "\n",
    "    sensor_data_blocks = []\n",
    "    for sensor in sensors:\n",
    "        raw = get_sensor_data_block(sensor, time_idx)\n",
    "        sensor_data_blocks.append(f\"Sensor: {sensor}\\n{raw}\")\n",
    "\n",
    "    sensor_data_str = \"\\n\\n\".join(sensor_data_blocks)\n",
    "\n",
    "    prompt_template = ChatPromptTemplate.from_messages([\n",
    "        (\"system\", f\"You are an expert in root cause analysis for cyber-physical systems, especially industrial water treatment systems. Your task is to analyze sensor behavior and identify plausible causes of detected anomalies. Use the domain knowledge provided to reason about physical, logical, or cyber attack-induced failures. Respond concisely and clearly.\"),\n",
    "        (\"user\", f\"\"\"Domain Knowledge:\n",
    "{manual_text}\n",
    "\n",
    "Time Point: {time_idx}\n",
    "Top 3 Sensors (by anomaly score): {', '.join(sensors)}\n",
    "\n",
    "Raw Sensor Data (±10 points around anomaly):\n",
    "{sensor_data_str}\n",
    "\n",
    "Please analyze this and explain the most likely root cause of the anomaly at time {time_idx}. Respond in bullet points.\"\"\")\n",
    "    ])\n",
    "\n",
    "    chain = prompt_template | llm\n",
    "    response = chain.invoke({})\n",
    "    print(f\"\\n--- Root Cause Analysis for time {time_idx} ---\\n{response}\\n\")\n",
    "    break"
   ]
  },
  {
   "cell_type": "code",
   "execution_count": null,
   "id": "4c15dfd2",
   "metadata": {},
   "outputs": [],
   "source": []
  }
 ],
 "metadata": {
  "kernelspec": {
   "display_name": "myenv",
   "language": "python",
   "name": "python3"
  },
  "language_info": {
   "codemirror_mode": {
    "name": "ipython",
    "version": 3
   },
   "file_extension": ".py",
   "mimetype": "text/x-python",
   "name": "python",
   "nbconvert_exporter": "python",
   "pygments_lexer": "ipython3",
   "version": "3.11.11"
  }
 },
 "nbformat": 4,
 "nbformat_minor": 5
}
